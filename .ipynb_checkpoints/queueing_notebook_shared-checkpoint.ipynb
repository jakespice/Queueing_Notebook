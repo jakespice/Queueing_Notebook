{
 "cells": [
  {
   "cell_type": "markdown",
   "metadata": {},
   "source": [
    "# <center><u> Queueing Theory and Simulation Jupyter Notebook </u></center>\n",
    "***"
   ]
  },
  {
   "cell_type": "code",
   "execution_count": 3,
   "metadata": {},
   "outputs": [],
   "source": [
    "import numpy as np\n",
    "import matplotlib.pyplot as plt\n",
    "\n",
    "import math\n",
    "from math import factorial\n",
    "\n",
    "import random\n",
    "from random import randint"
   ]
  },
  {
   "cell_type": "markdown",
   "metadata": {},
   "source": [
    "## Section 1 - Indispensable Knowledge\n",
    "### Motivation\n",
    "Queues are everywhere, in a wild variety of forms. From physical queues in supermarkets, to more arbitrary queues like the number of freshly made hamburgers held in stock or items waiting to go in a furnace.\n",
    "\n",
    "We want to find common grounds, do analysis and provide intuitions to optimize these systems.\n",
    "\n",
    "There is a typical optimization problem. We want queues to clear and not to exceed a certain length, but in the process minimize the costs. There is a number of variables we might control, like how large the service system, how it is organised (think of one queue line or multiple) and the inflow of new jobs/customers. \n",
    "\n",
    "The difficulty lies in the stochastic nature of the system, often it is impossible to control the regularity of jobs coming in and/or time spend on each job. \n",
    "\n",
    "Sojourn time J is the typical time a job spends in the system.\n",
    "\n",
    "We will analyse key performance measures like \n",
    "\n",
    "$p(n)$, the fraction of time the system contains $n$ customers.\n",
    "\n",
    "$\\pi(n)$, the fraction of customers that see a system with $n$ customers upon arrival\n",
    "\n",
    "The mean, variance and distribution of waiting time $W$ <font color='green'>right?</font>\n",
    "\n",
    "The average, variance and distribution of number of customers in the system <font color='green'>not sure yet</font>\n",
    "    \n",
    "We will simplify to an enorenomous extend with mathematics. Then make it a bit more realistic with simulation. "
   ]
  },
  {
   "cell_type": "markdown",
   "metadata": {},
   "source": [
    "## Section 2 - Construction and simulation of queueing systems\n",
    "\n",
    "### 2.1 Queueing systems in discrete time\n",
    "\n",
    "***\n",
    "\n",
    "$ a_k $ - number of jobs that arrive in period k\n",
    "\n",
    "$ c_k $ - capacity during period k, i.e. number of jobs that can be served\n",
    "\n",
    "$ d_k $ - number of departures in period k\n",
    "\n",
    "$ L_k $ - number of jobs in the system at the end of period k, i.e. system length\n",
    "\n",
    "Then we have the following basic queueing recursions:\n",
    "\n",
    "$$ d_k = min\\{L_{k-1}, c_k\\} $$\n",
    "\n",
    "$$ L_k = L_{k-1} + a_k - d_k $$\n",
    "\n",
    "With this system we generate $\\{L_i\\}_{i=1}^\\infty$ provided we have $L_0$. A sequence of numbers providing information about the dynamics of the *number of jobs in the system*\n",
    "\n",
    "We can modify the recursion so that jobs can be served in the period they arrive with $ d_k = min\\{L_{k-1} + a_k, c_k\\} $\n",
    "\n",
    "<font color='green'>Waiting time W and sojourn time J in discrete time? Notation the same for continuous version?</font>\n",
    "\n",
    "Generally continuous, emperically it would depend on how one rounds the numbers, analytically on the distributions and assumptions made. I think in any case the notation is the same.\n",
    "\n",
    "<font color='green'>Define service rate as a function of queue length, specify tolerance threshold (See 2.1.6) </font>\n",
    "\n",
    "***\n",
    "\n",
    "Defining functions for simple queueing recursions:"
   ]
  },
  {
   "cell_type": "markdown",
   "metadata": {},
   "source": [
    "We define $\\lambda$ to be the rate at which new jobs arrive in the system, and $\\mu$ to be the rate at which jobs are served. Note that when either process is stochastic this definition still works; then they are incorparated (as parameters) in the distributions."
   ]
  },
  {
   "cell_type": "code",
   "execution_count": 9,
   "metadata": {},
   "outputs": [],
   "source": [
    "def data_valid(vector, periods):\n",
    "    # Convert input data for arrivals and capacity to numpy array\n",
    "    \n",
    "    if isinstance(vector, np.ndarray):\n",
    "        return(vector)\n",
    "    \n",
    "    elif isinstance(vector, list):\n",
    "        convert = np.array(vector, dtype=float)\n",
    "        return(convert)\n",
    "    \n",
    "    elif isinstance(vector, int):\n",
    "    # Deterministic input for single value repeated for all periods\n",
    "        convert = vector*np.ones(periods, dtype=float)\n",
    "        return(convert)\n",
    "    \n",
    "    elif isinstance(vector, float):\n",
    "        convert = vector*np.ones(periods)\n",
    "        return(convert)\n",
    "\n",
    "def discreteQ(num, a, c, L0, serve_now=False, K=np.inf, rej='end'):\n",
    "    # serve_now=False assumes jobs that arrive in period k cannot be served in period k\n",
    "    # K infinity assumes no blocking\n",
    "    \n",
    "    a = data_valid(a, num)\n",
    "    c = data_valid(c, num)\n",
    "    \n",
    "    d = np.zeros_like(a, dtype=int)\n",
    "    L = np.zeros_like(a, dtype=int)\n",
    "    L[0] = L0\n",
    "    \n",
    "    loss = np.zeros_like(a)\n",
    "    \n",
    "    if serve_now == False:\n",
    "        # Jobs that arrive in period k can be served in period k+1\n",
    "        \n",
    "        for k in range(1,num):\n",
    "            d[k] = min(c[k], L[k-1])\n",
    "            \n",
    "        # Standard queueing system assumes no blocking threshold K unless stated otherwise\n",
    "            if K == np.inf:\n",
    "                L[k] = L[k-1] + a[k] - d[k]\n",
    "            else:\n",
    "                if rej == 'start':\n",
    "                    loss[k] = max(L[k-1] + a[k] - K, 0)\n",
    "                    L[k] = L[k-1] + a[k] - d[k] - loss[k]\n",
    "                elif rej == 'end':\n",
    "                    loss[k] = max(L[k-1] + a[k] - d[k] - K, 0)\n",
    "                    L[k] = L[k-1] + a[k] - d[k] - loss[k]\n",
    "            \n",
    "    elif serve_now == True:\n",
    "        # Jobs that arrive in period k can be served in period k\n",
    "        \n",
    "        for k in range(1,num):\n",
    "            d[k] = min(c[k], L[k-1] + a[k])\n",
    "            \n",
    "            if K == np.inf:\n",
    "                L[k] = L[k-1] + a[k] - d[k] \n",
    "            else:\n",
    "                if rej == 'start':\n",
    "                    loss[k] = max(L[k-1] + a[k] - K, 0)\n",
    "                    L[k] = L[k-1] + a[k] - d[k] - loss[k]\n",
    "                elif rej == 'end':\n",
    "                    loss[k] = max(L[k-1] + a[k] - d[k] - K, 0)\n",
    "                    L[k] = L[k-1] + a[k] - d[k] - loss[k]\n",
    "        \n",
    "    return(L, a, d, c, loss)\n",
    "\n",
    "\n",
    "def output_data(discreteQsim, var):\n",
    "    data = []\n",
    "    if 'L' in var:\n",
    "        data.append(discreteQsim[0])\n",
    "    if 'a' in var:\n",
    "        data.append(discreteQsim[1])\n",
    "    if 'd' in var:\n",
    "        data.append(discreteQsim[2])\n",
    "    if 'c' in var:\n",
    "        data.append(iscreteQsim[3])\n",
    "    if 'loss' in var:\n",
    "        data.append(discreteQsim[4])\n",
    "        \n",
    "    return(data)"
   ]
  },
  {
   "cell_type": "markdown",
   "metadata": {},
   "source": [
    "***\n",
    "\n",
    "**Exercise 2.1.1** - Discrete queue basic recursions"
   ]
  },
  {
   "cell_type": "code",
   "execution_count": 12,
   "metadata": {
    "scrolled": true
   },
   "outputs": [
    {
     "data": {
      "text/plain": [
       "([array([8, 6, 4, 9])], [array([0, 7, 6, 4])])"
      ]
     },
     "execution_count": 12,
     "metadata": {},
     "output_type": "execute_result"
    }
   ],
   "source": [
    "num = 4\n",
    "a = [0,5,4,9]\n",
    "c = 7\n",
    "L0 = 8\n",
    "\n",
    "sim = discreteQ(num,a,c,L0)\n",
    "output = output_data(sim, ['L', 'd'])\n",
    "\n",
    "L, d"
   ]
  },
  {
   "cell_type": "code",
   "execution_count": 28,
   "metadata": {},
   "outputs": [
    {
     "data": {
      "text/plain": [
       "(array([8., 6., 4., 9.]),\n",
       " array([0., 5., 4., 9.]),\n",
       " array([0., 7., 6., 4.]),\n",
       " array([7., 7., 7., 7.]),\n",
       " array([0., 0., 0., 0.]))"
      ]
     },
     "execution_count": 28,
     "metadata": {},
     "output_type": "execute_result"
    }
   ],
   "source": [
    "sim"
   ]
  },
  {
   "cell_type": "markdown",
   "metadata": {},
   "source": [
    "***\n",
    "**Exercise 2.1.4** - Blocking"
   ]
  },
  {
   "cell_type": "code",
   "execution_count": 15,
   "metadata": {},
   "outputs": [
    {
     "data": {
      "text/plain": [
       "(array([0., 8., 6., 7.]), array([0., 0., 5., 5.]), array([0., 2., 0., 0.]))"
      ]
     },
     "execution_count": 15,
     "metadata": {},
     "output_type": "execute_result"
    }
   ],
   "source": [
    "num = 4\n",
    "a = [0,10,3,6]\n",
    "c = [0,5,5,5]\n",
    "K=8\n",
    "\n",
    "sim = discreteQ(num,a,c,L0=0,K=8)\n",
    "L = output_data(sim, 'L')\n",
    "d = output_data(sim, 'd')\n",
    "l = output_data(sim, 'loss')\n",
    "\n",
    "L, d, l"
   ]
  },
  {
   "cell_type": "code",
   "execution_count": 16,
   "metadata": {},
   "outputs": [
    {
     "data": {
      "text/plain": [
       "0.10526315789473684"
      ]
     },
     "execution_count": 16,
     "metadata": {},
     "output_type": "execute_result"
    }
   ],
   "source": [
    "frac_lost = sum(l)/sum(a)\n",
    "frac_lost"
   ]
  },
  {
   "cell_type": "markdown",
   "metadata": {},
   "source": [
    "***\n",
    "\n",
    "**Exercise 2.1.6** - Cost Models"
   ]
  },
  {
   "cell_type": "code",
   "execution_count": 17,
   "metadata": {},
   "outputs": [],
   "source": [
    "# Define queueing system\n",
    "num = 5\n",
    "\n",
    "a = [0,4,8,2,1]\n",
    "c = [3,3,3,3,3]\n",
    "\n",
    "L = [0]*len(a)\n",
    "L[0] = 6\n",
    "d = [0]*len(a)\n",
    "\n",
    "p_cost = np.zeros(num)\n",
    "h_cost = np.zeros(num)\n",
    "\n",
    "p = 2 # service capacity cost parameter\n",
    "h = 1 # holding cost"
   ]
  },
  {
   "cell_type": "code",
   "execution_count": 18,
   "metadata": {},
   "outputs": [
    {
     "data": {
      "text/plain": [
       "(63.0, array([ 0.,  7., 12., 11.,  9.]), array([0., 6., 6., 6., 6.]))"
      ]
     },
     "execution_count": 18,
     "metadata": {},
     "output_type": "execute_result"
    }
   ],
   "source": [
    "for i in range(1,len(a)):\n",
    "    d[i] = min(L[i-1]+a[i], c[i])\n",
    "    L[i] = L[i-1] + a[i] - d[i]\n",
    "    p_cost[i] = p*c[i]\n",
    "    h_cost[i] = h*L[i]\n",
    "    \n",
    "tot_cost = sum(p_cost) + sum(h_cost)\n",
    "tot_cost, h_cost, p_cost"
   ]
  },
  {
   "cell_type": "code",
   "execution_count": null,
   "metadata": {},
   "outputs": [],
   "source": []
  },
  {
   "cell_type": "markdown",
   "metadata": {},
   "source": [
    "***\n",
    "**Exercise 2.1.7** - Threshold control policy\n",
    "\n",
    "* Server works at rate $c$ if number of jobs exceed $N$, otherwise is not used\n",
    "* Policy ensures that server capacity is fully used or not at all"
   ]
  },
  {
   "cell_type": "code",
   "execution_count": 19,
   "metadata": {},
   "outputs": [],
   "source": [
    "# Define queueing system\n",
    "np.random.seed(10)\n",
    "num = 20\n",
    "\n",
    "N = 20 # server works if there are N jobs, otherwise is not used\n",
    "\n",
    "a = 10*np.ones(num)\n",
    "c = 12*np.ones(num)\n",
    "\n",
    "L = np.zeros_like(a)\n",
    "d = np.zeros_like(a)\n",
    "\n",
    "L[0] = 0\n",
    "\n",
    "for i in range(1,len(a)):\n",
    "    if (L[i-1] < N):\n",
    "        L[i] = L[i-1] + a[i] # d[i] remains zero\n",
    "    else:\n",
    "        d[i] = min(L[i-1], c[i])\n",
    "        L[i] = L[i-1] + a[i] - d[i]"
   ]
  },
  {
   "cell_type": "code",
   "execution_count": 20,
   "metadata": {},
   "outputs": [
    {
     "data": {
      "text/plain": [
       "[<matplotlib.lines.Line2D at 0x7f10a4999d50>]"
      ]
     },
     "execution_count": 20,
     "metadata": {},
     "output_type": "execute_result"
    },
    {
     "name": "stderr",
     "output_type": "stream",
     "text": [
      "findfont: Font family ['Candara'] not found. Falling back to DejaVu Sans.\n"
     ]
    },
    {
     "data": {
      "image/png": "[encoded data removed]",
      "text/plain": [
       "<Figure size 720x432 with 1 Axes>"
      ]
     },
     "metadata": {},
     "output_type": "display_data"
    }
   ],
   "source": [
    "fig, ax = plt.subplots(figsize = (10,6))\n",
    "fig.set_facecolor('white')\n",
    "ax.set_facecolor('white')\n",
    "ax.grid(lw=0.5, ls='-.', zorder = 1)\n",
    "ax.set_xlabel('Period k', fontsize = 16, fontfamily='Candara')\n",
    "ax.set_ylabel('Number of jobs in the system', fontsize = 16, fontfamily='Candara')\n",
    "plt.plot(L, ds='steps-post')"
   ]
  },
  {
   "cell_type": "markdown",
   "metadata": {},
   "source": [
    "***\n",
    "**Exercise 2.1.8** - N-Policy cost model\n",
    "\n",
    "* Machine switches on when system length hits $N$\n",
    "* Machine switches off when system becomes empty (typically rarely hits exactly zero, so min threshold $M$ may be better)\n",
    "* Cost $K$ to switch on machine\n",
    "* Cost $\\beta$ per period when machine is on\n",
    "* Cost $h$ per job per period in the system"
   ]
  },
  {
   "cell_type": "code",
   "execution_count": 21,
   "metadata": {},
   "outputs": [],
   "source": [
    "np.random.seed(5)\n",
    "num = 100\n",
    "a = np.random.randint(0,12,num)\n",
    "c = np.random.randint(0,16,num)\n",
    "L = np.zeros(num)\n",
    "d = np.zeros(num)\n",
    "\n",
    "L[0] = 10\n",
    "N = 20\n",
    "\n",
    "I = np.zeros(num)\n",
    "\n",
    "for k in range(1,len(a)):\n",
    "    # Turn off when system is empty\n",
    "    if (L[k-1] == 0):\n",
    "        d[k] = 0\n",
    "        I[k] = 0\n",
    "    # Turn on when system reaches threshold N\n",
    "    elif (L[k-1] >= N):\n",
    "        d[k] = min(L[k-1], c[k])\n",
    "        I[k] = 1\n",
    "    # Remain on/off until threshold is met\n",
    "    elif (L[k-1] < N):\n",
    "        if (I[k-1] == 0):\n",
    "            d[k] = 0\n",
    "            I[k] = 0\n",
    "        else:\n",
    "            d[k] = min(L[k-1], c[k])\n",
    "            I[k] = 1\n",
    "        \n",
    "    L[k] = L[k-1] + a[k] - d[k]"
   ]
  },
  {
   "cell_type": "code",
   "execution_count": 22,
   "metadata": {},
   "outputs": [
    {
     "data": {
      "text/plain": [
       "[<matplotlib.lines.Line2D at 0x7f10a4814070>]"
      ]
     },
     "execution_count": 22,
     "metadata": {},
     "output_type": "execute_result"
    },
    {
     "data": {
      "image/png": "[encoded data removed]",
      "text/plain": [
       "<Figure size 720x432 with 1 Axes>"
      ]
     },
     "metadata": {},
     "output_type": "display_data"
    }
   ],
   "source": [
    "fig, ax = plt.subplots(figsize = (10,6))\n",
    "fig.set_facecolor('white')\n",
    "ax.set_facecolor('white')\n",
    "ax.grid(lw=0.5, ls='-.', zorder = 1)\n",
    "ax.set_xlabel('Period k', fontsize = 16, fontfamily='Candara')\n",
    "ax.set_ylabel('Number of jobs in the system', fontsize = 16, fontfamily='Candara')\n",
    "plt.plot(L, ds='steps-post')"
   ]
  },
  {
   "cell_type": "markdown",
   "metadata": {},
   "source": [
    "Implementing associated costs:"
   ]
  },
  {
   "cell_type": "code",
   "execution_count": 23,
   "metadata": {},
   "outputs": [
    {
     "data": {
      "text/plain": [
       "(3711.0, 4)"
      ]
     },
     "execution_count": 23,
     "metadata": {},
     "output_type": "execute_result"
    }
   ],
   "source": [
    "beta = 1\n",
    "h = 2\n",
    "K = 10\n",
    "\n",
    "on = 0 # number of times the machine is switched on\n",
    "\n",
    "for j in range(1,len(I)):\n",
    "    if I[j] > I[j-1]:\n",
    "        on += 1\n",
    "    else:\n",
    "        pass\n",
    "    \n",
    "tot_cost = beta*sum(I) + h*sum(L) + K*on\n",
    "tot_cost, on"
   ]
  },
  {
   "cell_type": "code",
   "execution_count": null,
   "metadata": {},
   "outputs": [],
   "source": []
  },
  {
   "cell_type": "code",
   "execution_count": null,
   "metadata": {},
   "outputs": [],
   "source": []
  },
  {
   "cell_type": "code",
   "execution_count": null,
   "metadata": {},
   "outputs": [],
   "source": []
  },
  {
   "cell_type": "code",
   "execution_count": null,
   "metadata": {},
   "outputs": [],
   "source": []
  },
  {
   "cell_type": "code",
   "execution_count": null,
   "metadata": {},
   "outputs": [],
   "source": []
  }
 ],
 "metadata": {
  "kernelspec": {
   "display_name": "Python 3 (ipykernel)",
   "language": "python",
   "name": "python3"
  },
  "language_info": {
   "codemirror_mode": {
    "name": "ipython",
    "version": 3
   },
   "file_extension": ".py",
   "mimetype": "text/x-python",
   "name": "python",
   "nbconvert_exporter": "python",
   "pygments_lexer": "ipython3",
   "version": "3.10.2"
  }
 },
 "nbformat": 4,
 "nbformat_minor": 4
}
